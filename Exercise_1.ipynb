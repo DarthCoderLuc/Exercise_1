{
 "cells": [
  {
   "cell_type": "markdown",
   "metadata": {},
   "source": [
    "### Exercise 1"
   ]
  },
  {
   "cell_type": "code",
   "execution_count": 1,
   "metadata": {},
   "outputs": [],
   "source": [
    "my_name=\"Lucas\""
   ]
  },
  {
   "cell_type": "code",
   "execution_count": 3,
   "metadata": {},
   "outputs": [
    {
     "name": "stdout",
     "output_type": "stream",
     "text": [
      "Lucas\n"
     ]
    }
   ],
   "source": [
    "print(my_name)"
   ]
  },
  {
   "cell_type": "markdown",
   "metadata": {},
   "source": [
    "### Exercise 2"
   ]
  },
  {
   "cell_type": "code",
   "execution_count": 4,
   "metadata": {},
   "outputs": [],
   "source": [
    "age=27"
   ]
  },
  {
   "cell_type": "code",
   "execution_count": 5,
   "metadata": {},
   "outputs": [
    {
     "name": "stdout",
     "output_type": "stream",
     "text": [
      "27\n"
     ]
    }
   ],
   "source": [
    "print(age)\n"
   ]
  },
  {
   "cell_type": "markdown",
   "metadata": {},
   "source": [
    "### Exercise 3"
   ]
  },
  {
   "cell_type": "code",
   "execution_count": 16,
   "metadata": {},
   "outputs": [],
   "source": [
    "julia_age=32"
   ]
  },
  {
   "cell_type": "code",
   "execution_count": 7,
   "metadata": {},
   "outputs": [
    {
     "name": "stdout",
     "output_type": "stream",
     "text": [
      "5\n"
     ]
    }
   ],
   "source": [
    "print(julia_age-age)"
   ]
  },
  {
   "cell_type": "markdown",
   "metadata": {},
   "source": [
    "### Exercise 4"
   ]
  },
  {
   "cell_type": "code",
   "execution_count": 30,
   "metadata": {},
   "outputs": [],
   "source": [
    "younger=\"you are younger than 21\"\n",
    "older=\"you are older than 21\""
   ]
  },
  {
   "cell_type": "code",
   "execution_count": 33,
   "metadata": {},
   "outputs": [
    {
     "name": "stdout",
     "output_type": "stream",
     "text": [
      "you are older than 21\n"
     ]
    }
   ],
   "source": [
    "age=27\n",
    "if age < 21:\n",
    "    print(younger)\n",
    "else: print(older)"
   ]
  },
  {
   "cell_type": "markdown",
   "metadata": {},
   "source": [
    "### Exercise 5"
   ]
  },
  {
   "cell_type": "code",
   "execution_count": 166,
   "metadata": {},
   "outputs": [],
   "source": [
    "younger= \"You are younger than Julia\"\n",
    "older=\"You are older than Julia\"\n",
    "same=\"You have the same age as Julia\"\n",
    "age=32"
   ]
  },
  {
   "cell_type": "code",
   "execution_count": 169,
   "metadata": {},
   "outputs": [
    {
     "name": "stdout",
     "output_type": "stream",
     "text": [
      "You are older than Julia\n"
     ]
    }
   ],
   "source": [
    "younger= \"You are younger than Julia\"\n",
    "older=\"You are older than Julia\"\n",
    "same=\"You have the same age as Julia\"\n",
    "age = 33\n",
    "julia_age = 32\n",
    "\n",
    "if age < julia_age:\n",
    "    print(younger)\n",
    "elif age > julia_age:\n",
    "    print(older)\n",
    "else: print(same)"
   ]
  },
  {
   "cell_type": "markdown",
   "metadata": {},
   "source": [
    "### Exercise 6"
   ]
  },
  {
   "cell_type": "code",
   "execution_count": 38,
   "metadata": {},
   "outputs": [
    {
     "name": "stdout",
     "output_type": "stream",
     "text": [
      "Andros\n",
      "Pierre\n",
      "['Andros', 'Gabi', 'Kilian', 'Lucas', 'Muayad', 'Oti', 'Patricia', 'Pierre']\n"
     ]
    }
   ],
   "source": [
    "MyList =[\"Pierre\",\"Patricia\",\"Oti\",\"Andros\",\"Gabi\",\"Lucas\",\"Kilian\",\"Muayad\"]\n",
    "\n",
    "\n",
    "\n",
    "print(sorted(MyList)[0])\n",
    "print(sorted(MyList)[-1])\n",
    "print(sorted(MyList))\n",
    "\n"
   ]
  },
  {
   "cell_type": "markdown",
   "metadata": {},
   "source": [
    "### Exercise 7 (for- Loop)"
   ]
  },
  {
   "cell_type": "code",
   "execution_count": 49,
   "metadata": {},
   "outputs": [
    {
     "name": "stdout",
     "output_type": "stream",
     "text": [
      "34\n",
      "30\n",
      "38\n"
     ]
    }
   ],
   "source": [
    "MyListAges = [34,45,29,30,38,27,35,31]\n",
    "\n",
    "for num in MyListAges:\n",
    "    if num % 2 == 0 :\n",
    "        print(num)"
   ]
  },
  {
   "cell_type": "markdown",
   "metadata": {},
   "source": [
    "### Exercise 7 (While-Loop)"
   ]
  },
  {
   "cell_type": "code",
   "execution_count": 76,
   "metadata": {},
   "outputs": [
    {
     "name": "stdout",
     "output_type": "stream",
     "text": [
      "34 30 38 "
     ]
    }
   ],
   "source": [
    "MyListAges = [34,45,29,30,38,27,35,31]\n",
    "counter= 0 \n",
    "\n",
    "while (counter<len(MyListAges)):\n",
    "    if MyListAges[counter] % 2 == 0:\n",
    "        print (MyListAges[counter], end=\" \")\n",
    "\n",
    "    counter +=1"
   ]
  },
  {
   "cell_type": "markdown",
   "metadata": {},
   "source": [
    "### Exercise 8"
   ]
  },
  {
   "cell_type": "code",
   "execution_count": 77,
   "metadata": {},
   "outputs": [
    {
     "data": {
      "text/plain": [
       "27"
      ]
     },
     "execution_count": 77,
     "metadata": {},
     "output_type": "execute_result"
    }
   ],
   "source": [
    "MyListAges = [34,45,29,30,38,27,35,31]\n",
    "\n",
    "min(MyListAges)"
   ]
  },
  {
   "cell_type": "markdown",
   "metadata": {},
   "source": [
    "### Exercise 9"
   ]
  },
  {
   "cell_type": "code",
   "execution_count": 78,
   "metadata": {},
   "outputs": [
    {
     "data": {
      "text/plain": [
       "45"
      ]
     },
     "execution_count": 78,
     "metadata": {},
     "output_type": "execute_result"
    }
   ],
   "source": [
    "MyListAges = [34,45,29,30,38,27,35,31]\n",
    "\n",
    "max(MyListAges)"
   ]
  },
  {
   "cell_type": "markdown",
   "metadata": {},
   "source": [
    "### Exercise 10"
   ]
  },
  {
   "cell_type": "code",
   "execution_count": 85,
   "metadata": {},
   "outputs": [
    {
     "name": "stdout",
     "output_type": "stream",
     "text": [
      "25\n",
      "29\n",
      "19\n",
      "14\n",
      "17\n",
      "18\n",
      "30\n",
      "28\n",
      "45\n",
      "16\n"
     ]
    }
   ],
   "source": [
    "Year = [1999, 1995, 2005, 2010, 2007, 2006, 1994, 1996, 1979, 2008]\n",
    "\n",
    "\n",
    "for Age in Year:\n",
    "    print(2024-Age)\n",
    "    \n",
    "\n"
   ]
  },
  {
   "cell_type": "markdown",
   "metadata": {},
   "source": [
    "### Exercise 11"
   ]
  },
  {
   "cell_type": "code",
   "execution_count": 108,
   "metadata": {},
   "outputs": [
    {
     "name": "stdout",
     "output_type": "stream",
     "text": [
      "name Bob\n",
      "age 1999\n",
      "name Jack\n",
      "age 1995\n",
      "name Lisa\n",
      "age 2005\n",
      "name Maria\n",
      "age 2010\n",
      "name Ben\n",
      "age 2007\n",
      "name Emma\n",
      "age 2006\n",
      "name Oscar\n",
      "age 1994\n",
      "name Amy\n",
      "age 1996\n",
      "name Paul\n",
      "age 1979\n",
      "name Etta\n",
      "age 2008\n"
     ]
    }
   ],
   "source": [
    "customer_list = [\n",
    "                    {\"name\": \"Bob\", \"age\": 1999},\n",
    "                    {\"name\": \"Jack\", \"age\": 1995},\n",
    "                    {\"name\": \"Lisa\", \"age\": 2005},\n",
    "                    {\"name\": \"Maria\", \"age\": 2010},\n",
    "                    {\"name\": \"Ben\", \"age\": 2007},\n",
    "                    {\"name\": \"Emma\", \"age\": 2006},\n",
    "                    {\"name\": \"Oscar\", \"age\": 1994},\n",
    "                    {\"name\": \"Amy\", \"age\": 1996},\n",
    "                    {\"name\": \"Paul\", \"age\": 1979},\n",
    "                    {\"name\": \"Etta\", \"age\": 2008}\n",
    "                ]\n",
    "\n",
    "for k, v in [(k, v) for x in customer_list for (k, v) in x.items()]:\n",
    "  print(k,v)"
   ]
  },
  {
   "cell_type": "code",
   "execution_count": 116,
   "metadata": {},
   "outputs": [
    {
     "name": "stdout",
     "output_type": "stream",
     "text": [
      "('name', 'Bob')\n",
      "('age', 1999)\n"
     ]
    },
    {
     "data": {
      "text/plain": [
       "(None, None)"
      ]
     },
     "execution_count": 116,
     "metadata": {},
     "output_type": "execute_result"
    }
   ],
   "source": [
    "m= [{\"name\": \"Bob\", \"age\": 1999}, {\"name\": \"Lucas\", \"age\": 1996}]\n",
    "\n",
    "name, age = List.items()\n",
    "print (name), print(age)"
   ]
  },
  {
   "cell_type": "code",
   "execution_count": 118,
   "metadata": {},
   "outputs": [
    {
     "data": {
      "text/plain": [
       "1996"
      ]
     },
     "execution_count": 118,
     "metadata": {},
     "output_type": "execute_result"
    }
   ],
   "source": [
    "m[1][\"age\"]"
   ]
  },
  {
   "cell_type": "code",
   "execution_count": 68,
   "metadata": {},
   "outputs": [],
   "source": [
    "customer_list = [\n",
    "                    {\"name\": \"Bob\", \"age\": 1999},\n",
    "                    {\"name\": \"Jack\", \"age\": 1995},\n",
    "                    {\"name\": \"Lisa\", \"age\": 2005},\n",
    "                    {\"name\": \"Maria\", \"age\": 2010},\n",
    "                    {\"name\": \"Ben\", \"age\": 2007},\n",
    "                    {\"name\": \"Emma\", \"age\": 2006},\n",
    "                    {\"name\": \"Oscar\", \"age\": 1994},\n",
    "                    {\"name\": \"Amy\", \"age\": 1996},\n",
    "                    {\"name\": \"Paul\", \"age\": 1979},\n",
    "                    {\"name\": \"Etta\", \"age\": 2008}\n",
    "                ]"
   ]
  },
  {
   "cell_type": "markdown",
   "metadata": {},
   "source": [
    "# Here:"
   ]
  },
  {
   "cell_type": "code",
   "execution_count": 86,
   "metadata": {},
   "outputs": [
    {
     "name": "stdout",
     "output_type": "stream",
     "text": [
      "Bob is 25 years old\n",
      "Jack is 29 years old\n",
      "Lisa is 19 years old\n",
      "Maria is 14 years old\n",
      "Ben is 17 years old\n",
      "Emma is 18 years old\n",
      "Oscar is 30 years old\n",
      "Amy is 28 years old\n",
      "Paul is 45 years old\n",
      "Etta is 16 years old\n"
     ]
    }
   ],
   "source": [
    "for x in customer_list: \n",
    "    print(x[\"name\"], \"is\",2024-x[\"age\"],\"years old\")"
   ]
  },
  {
   "cell_type": "markdown",
   "metadata": {},
   "source": [
    "### Exercise 11 (Function)"
   ]
  },
  {
   "cell_type": "code",
   "execution_count": 94,
   "metadata": {},
   "outputs": [],
   "source": [
    "def name_is_age_old(list_1):\n",
    "    for x in list_1:\n",
    "        print(x[\"name\"], \"is\",2024-x[\"age\"],\"years old\")\n",
    "    "
   ]
  },
  {
   "cell_type": "code",
   "execution_count": 95,
   "metadata": {},
   "outputs": [
    {
     "name": "stdout",
     "output_type": "stream",
     "text": [
      "Bob is 25 years old\n",
      "Jack is 29 years old\n",
      "Lisa is 19 years old\n",
      "Maria is 14 years old\n",
      "Ben is 17 years old\n",
      "Emma is 18 years old\n",
      "Oscar is 30 years old\n",
      "Amy is 28 years old\n",
      "Paul is 45 years old\n",
      "Etta is 16 years old\n"
     ]
    }
   ],
   "source": [
    "name_is_age_old ([\n",
    "                    {\"name\": \"Bob\", \"age\": 1999},\n",
    "                    {\"name\": \"Jack\", \"age\": 1995},\n",
    "                    {\"name\": \"Lisa\", \"age\": 2005},\n",
    "                    {\"name\": \"Maria\", \"age\": 2010},\n",
    "                    {\"name\": \"Ben\", \"age\": 2007},\n",
    "                    {\"name\": \"Emma\", \"age\": 2006},\n",
    "                    {\"name\": \"Oscar\", \"age\": 1994},\n",
    "                    {\"name\": \"Amy\", \"age\": 1996},\n",
    "                    {\"name\": \"Paul\", \"age\": 1979},\n",
    "                    {\"name\": \"Etta\", \"age\": 2008}\n",
    "                ])"
   ]
  },
  {
   "cell_type": "markdown",
   "metadata": {},
   "source": [
    "### Exercise 12"
   ]
  },
  {
   "cell_type": "code",
   "execution_count": 61,
   "metadata": {},
   "outputs": [
    {
     "name": "stdout",
     "output_type": "stream",
     "text": [
      "[11, 12, 13, 14, 20, 23, 24, 25]\n",
      "(9, 40)\n"
     ]
    },
    {
     "data": {
      "text/plain": [
       "(None, None)"
      ]
     },
     "execution_count": 61,
     "metadata": {},
     "output_type": "execute_result"
    }
   ],
   "source": [
    "ages = [20, 24, 14, 9, 12, 13, 25, 23, 40, 11]\n",
    "\n",
    "ages.sort()\n",
    "\n",
    "x= ages.pop(0), ages.pop(-1)\n",
    "\n",
    "print(ages), print (x)\n",
    "\n"
   ]
  },
  {
   "cell_type": "markdown",
   "metadata": {},
   "source": [
    "### Exercise 12 (Function)"
   ]
  },
  {
   "cell_type": "code",
   "execution_count": 335,
   "metadata": {},
   "outputs": [],
   "source": [
    "\n",
    "def clean_list(list1):\n",
    "    for i in range(len(list1)):\n",
    "        for j in range(i + 1, len(list1)):\n",
    "\n",
    "            if list1[i] > list1[j]:\n",
    "                list1[i], list1[j] = list1[j], list1[i]\n",
    "    list1.sort()\n",
    "    x= list1.pop(0), list1.pop(-1)\n",
    "    print(\"clean List:\", list1), print (\"min/max\", x)\n",
    "    "
   ]
  },
  {
   "cell_type": "code",
   "execution_count": 336,
   "metadata": {},
   "outputs": [
    {
     "name": "stdout",
     "output_type": "stream",
     "text": [
      "clean List: [11, 12, 13, 14, 20, 23, 24, 25]\n",
      "min/max (9, 40)\n"
     ]
    }
   ],
   "source": [
    "clean_list([20, 24, 14, 9, 12, 13, 25, 23, 40, 11])"
   ]
  },
  {
   "cell_type": "markdown",
   "metadata": {},
   "source": [
    "### Exercise 13"
   ]
  },
  {
   "cell_type": "code",
   "execution_count": 151,
   "metadata": {},
   "outputs": [
    {
     "name": "stdout",
     "output_type": "stream",
     "text": [
      "Common Elements: {10, 13, 15, 16, 18, 19}\n"
     ]
    }
   ],
   "source": [
    "berlin = [15, 13, 16, 18, 19, 10, 12 ]\n",
    "munich = [7, 13, 15, 20, 19, 18, 10, 16]\n",
    "\n",
    "ber= set(berlin)\n",
    "mun= set (munich)\n",
    "\n",
    "if (ber & mun):\n",
    "    print(\"Common Elements:\",ber & mun)\n",
    "else:\n",
    "    print(\"No common Elements\")\n",
    "\n"
   ]
  },
  {
   "cell_type": "markdown",
   "metadata": {},
   "source": [
    "### Exercise 13 (Function)"
   ]
  },
  {
   "cell_type": "code",
   "execution_count": 58,
   "metadata": {},
   "outputs": [],
   "source": [
    "def common_list(list_1,list_2,list_3):\n",
    "    for item in list_1:\n",
    "        if item in list_2:\n",
    "            list_3.append(item)\n",
    "    print(\"Common Elements:\",sorted(list_3))\n"
   ]
  },
  {
   "cell_type": "code",
   "execution_count": 59,
   "metadata": {},
   "outputs": [
    {
     "name": "stdout",
     "output_type": "stream",
     "text": [
      "Common Elements: [10, 13, 15, 16, 18, 19]\n"
     ]
    }
   ],
   "source": [
    "berlin = [15, 13, 16, 18, 19, 10, 12 ]\n",
    "munich = [7, 13, 15, 20, 19, 18, 10, 16]\n",
    "common = []\n",
    "\n",
    "min_max_list(berlin,munich,common)"
   ]
  },
  {
   "cell_type": "markdown",
   "metadata": {},
   "source": [
    "### Exercise 14"
   ]
  },
  {
   "cell_type": "code",
   "execution_count": 152,
   "metadata": {},
   "outputs": [
    {
     "name": "stdout",
     "output_type": "stream",
     "text": [
      "{10, 13, 15, 16, 18, 19}\n"
     ]
    }
   ],
   "source": [
    "DupList= [15,13,16,18,19,15,10]\n",
    "\n",
    "Dup= set(DupList)\n",
    "\n",
    "print(Dup)\n",
    "\n",
    "\n"
   ]
  },
  {
   "cell_type": "code",
   "execution_count": 162,
   "metadata": {},
   "outputs": [
    {
     "name": "stdout",
     "output_type": "stream",
     "text": [
      "Youngest 10\n",
      "Oldest: 19\n"
     ]
    }
   ],
   "source": [
    "ages = [15,13,16,18,19,15,10]\n",
    "\n",
    "for i in range(len(ages)):\n",
    "    for j in range(i + 1, len(ages)):\n",
    "\n",
    "        if ages[i] > ages[j]:\n",
    "           ages[i], ages[j] = ages[j], ages[i]\n",
    "\n",
    "print (\"Youngest\",ages[0])\n",
    "print (\"Oldest:\", ages[-1])"
   ]
  },
  {
   "cell_type": "code",
   "execution_count": null,
   "metadata": {},
   "outputs": [],
   "source": []
  },
  {
   "cell_type": "markdown",
   "metadata": {},
   "source": [
    "### 14 with Function"
   ]
  },
  {
   "cell_type": "code",
   "execution_count": 22,
   "metadata": {},
   "outputs": [],
   "source": [
    "def dup_remover(list_dup,clean_List):\n",
    "    for item in list_dup:\n",
    "        if item not in clean_List:\n",
    "            clean_List.append(item)\n",
    "    print(clean_List)"
   ]
  },
  {
   "cell_type": "code",
   "execution_count": 23,
   "metadata": {},
   "outputs": [
    {
     "name": "stdout",
     "output_type": "stream",
     "text": [
      "[1, 2, 3, 4, 5, 6, 7]\n"
     ]
    }
   ],
   "source": [
    "dup_remover([1,2,3,4,4,4,5,5,5,5,6,6,6,7,7],[])"
   ]
  },
  {
   "cell_type": "markdown",
   "metadata": {},
   "source": [
    "### Exercise 15"
   ]
  },
  {
   "cell_type": "code",
   "execution_count": null,
   "metadata": {},
   "outputs": [],
   "source": []
  },
  {
   "cell_type": "code",
   "execution_count": 206,
   "metadata": {},
   "outputs": [],
   "source": [
    "def welcome(name):\n",
    "    print(\"Welcome\"+ name+ \", have a nice day!\")\n",
    "\n",
    "\n",
    "    "
   ]
  },
  {
   "cell_type": "code",
   "execution_count": 207,
   "metadata": {},
   "outputs": [
    {
     "name": "stdout",
     "output_type": "stream",
     "text": [
      "Welcome Lucas, have a nice day!\n"
     ]
    }
   ],
   "source": [
    "welcome(\" Lucas\")"
   ]
  },
  {
   "cell_type": "markdown",
   "metadata": {},
   "source": [
    "### Exercise 16"
   ]
  },
  {
   "cell_type": "code",
   "execution_count": 237,
   "metadata": {},
   "outputs": [],
   "source": [
    "def get_length(word):\n",
    "    count= 0 \n",
    "    for get_length in word:\n",
    "        count+=1\n",
    "    print(count)\n",
    "    \n",
    "\n",
    "    "
   ]
  },
  {
   "cell_type": "code",
   "execution_count": 241,
   "metadata": {},
   "outputs": [
    {
     "name": "stdout",
     "output_type": "stream",
     "text": [
      "5\n",
      "2\n"
     ]
    }
   ],
   "source": [
    "get_length(\"Hello\")\n",
    "get_length(\"Hi\")"
   ]
  },
  {
   "cell_type": "markdown",
   "metadata": {},
   "source": [
    "### Exercise 17"
   ]
  },
  {
   "cell_type": "code",
   "execution_count": 2,
   "metadata": {},
   "outputs": [],
   "source": [
    "def check_even (num):\n",
    "    if num % 2 == 0:\n",
    "        print (\"Even Number:\" , num)\n",
    "    else:\n",
    "        print (\"Uneven Number:\", num)\n",
    "    \n"
   ]
  },
  {
   "cell_type": "code",
   "execution_count": 3,
   "metadata": {},
   "outputs": [
    {
     "name": "stdout",
     "output_type": "stream",
     "text": [
      "Uneven Number: 7\n"
     ]
    }
   ],
   "source": [
    "check_even(7)"
   ]
  },
  {
   "cell_type": "markdown",
   "metadata": {},
   "source": [
    "### Exercise 19"
   ]
  },
  {
   "cell_type": "code",
   "execution_count": 139,
   "metadata": {},
   "outputs": [],
   "source": [
    "def age_finder (age):\n",
    "    input_List_Age = [15,13,16,18,19,10]\n",
    "\n",
    "    if age in input_List_Age:\n",
    "        print(\"True\")\n",
    "    else:\n",
    "        print(\"False\")"
   ]
  },
  {
   "cell_type": "code",
   "execution_count": 143,
   "metadata": {},
   "outputs": [
    {
     "name": "stdout",
     "output_type": "stream",
     "text": [
      "True\n"
     ]
    }
   ],
   "source": [
    "age_finder(15)"
   ]
  },
  {
   "cell_type": "code",
   "execution_count": 245,
   "metadata": {},
   "outputs": [],
   "source": [
    "\n",
    "def age_finder (age,input_List_Age):\n",
    "    \n",
    "        if age in input_List_Age:\n",
    "            print(\"True, this age\",\"(\",age,\")\", \"is contained in the list\")\n",
    "        else:\n",
    "            print(\"False, this age\",\"(\", age, \")\", \"is not contained in the list\")\n"
   ]
  },
  {
   "cell_type": "code",
   "execution_count": 354,
   "metadata": {},
   "outputs": [
    {
     "name": "stdout",
     "output_type": "stream",
     "text": [
      "False, this age ( 25 ) is not contained in the list\n"
     ]
    }
   ],
   "source": [
    "age_finder(int(input(\"What is your Age?\")),[15,13,16,18,19,10])"
   ]
  },
  {
   "cell_type": "markdown",
   "metadata": {},
   "source": [
    "# Extra Exercises"
   ]
  },
  {
   "cell_type": "markdown",
   "metadata": {},
   "source": []
  },
  {
   "cell_type": "markdown",
   "metadata": {},
   "source": [
    "### Q1\n"
   ]
  },
  {
   "cell_type": "code",
   "execution_count": 274,
   "metadata": {},
   "outputs": [],
   "source": [
    "def age_customer(list_1):\n",
    "    for age in list_1:\n",
    "        print(2024-age)\n"
   ]
  },
  {
   "cell_type": "code",
   "execution_count": 276,
   "metadata": {},
   "outputs": [
    {
     "name": "stdout",
     "output_type": "stream",
     "text": [
      "25\n",
      "29\n",
      "19\n",
      "14\n",
      "17\n",
      "18\n",
      "30\n",
      "28\n",
      "45\n",
      "16\n"
     ]
    }
   ],
   "source": [
    "age_customer([1999, 1995, 2005, 2010, 2007, 2006, 1994, 1996, 1979, 2008])"
   ]
  },
  {
   "cell_type": "markdown",
   "metadata": {},
   "source": [
    "### Q2"
   ]
  },
  {
   "cell_type": "code",
   "execution_count": 344,
   "metadata": {},
   "outputs": [],
   "source": [
    "def clean_list_min_max(list1):\n",
    "    for i in range(len(list1)):\n",
    "        for j in range(i + 1, len(list1)):\n",
    "\n",
    "            if list1[i] > list1[j]:\n",
    "                list1[i], list1[j] = list1[j], list1[i]\n",
    "    list1.sort()\n",
    "    x= list1.pop(0), list1.pop(-1)\n",
    "    print(\"clean List:\", list1), print (\"min/max:\", x)"
   ]
  },
  {
   "cell_type": "code",
   "execution_count": 345,
   "metadata": {},
   "outputs": [
    {
     "name": "stdout",
     "output_type": "stream",
     "text": [
      "clean List: [11, 12, 13, 14, 20, 23, 24, 25]\n",
      "min/max: (9, 40)\n"
     ]
    }
   ],
   "source": [
    "clean_list_min_max([20, 24, 14, 9, 12, 13, 25, 23, 40, 11])\n"
   ]
  },
  {
   "cell_type": "markdown",
   "metadata": {},
   "source": [
    "### Q3"
   ]
  },
  {
   "cell_type": "code",
   "execution_count": 346,
   "metadata": {},
   "outputs": [],
   "source": [
    "def common_List(list_1,list_2,list_3):\n",
    "    for item in list_1:\n",
    "        if item in list_2:\n",
    "            list_3.append(item)\n",
    "    print(\"Common Numbers:\",list_3)"
   ]
  },
  {
   "cell_type": "code",
   "execution_count": 347,
   "metadata": {},
   "outputs": [
    {
     "name": "stdout",
     "output_type": "stream",
     "text": [
      "Common Numbers: [15, 13, 16, 18, 19, 10]\n"
     ]
    }
   ],
   "source": [
    "common_List([15, 13, 16, 18, 19, 10, 12 ],[7, 13, 15, 20, 19, 18, 10, 16],[])"
   ]
  },
  {
   "cell_type": "markdown",
   "metadata": {},
   "source": [
    "### Q4"
   ]
  },
  {
   "cell_type": "code",
   "execution_count": 352,
   "metadata": {},
   "outputs": [],
   "source": [
    "def unique_List(list_1,list_2):\n",
    "    for item in list_1:\n",
    "        if item not in list_2:\n",
    "            list_2.append(item)\n",
    "    print(\"Unique Values:\",list_2)"
   ]
  },
  {
   "cell_type": "code",
   "execution_count": 353,
   "metadata": {},
   "outputs": [
    {
     "name": "stdout",
     "output_type": "stream",
     "text": [
      "Unique Values: [15, 13, 16, 18, 19, 10]\n"
     ]
    }
   ],
   "source": [
    "unique_List([15,13,16,18,19,15,10],[])"
   ]
  },
  {
   "cell_type": "markdown",
   "metadata": {},
   "source": [
    "### Set 1"
   ]
  },
  {
   "cell_type": "code",
   "execution_count": 4,
   "metadata": {},
   "outputs": [],
   "source": [
    "def outlier(array_1,array_2,array_3):\n",
    "    \n",
    "    for item in array_1:\n",
    "        if item %2 == 0:\n",
    "            array_2.append(item)\n",
    "        if item %2 != 0:\n",
    "                array_3.append(item)\n",
    "\n",
    "    if len(array_2) > len(array_3):\n",
    "        return(array_3)\n",
    "    else:\n",
    "        return(array_2)\n",
    "\n",
    "        \n"
   ]
  },
  {
   "cell_type": "code",
   "execution_count": 8,
   "metadata": {},
   "outputs": [
    {
     "data": {
      "text/plain": [
       "[11]"
      ]
     },
     "execution_count": 8,
     "metadata": {},
     "output_type": "execute_result"
    }
   ],
   "source": [
    "outlier([2, 4, 0, 100, 4, 11, 2602, 36],[],[])"
   ]
  },
  {
   "cell_type": "markdown",
   "metadata": {},
   "source": [
    "### Exercise 2"
   ]
  },
  {
   "cell_type": "code",
   "execution_count": 10,
   "metadata": {},
   "outputs": [],
   "source": [
    "import numpy as np"
   ]
  }
 ],
 "metadata": {
  "kernelspec": {
   "display_name": "Python 3",
   "language": "python",
   "name": "python3"
  },
  "language_info": {
   "codemirror_mode": {
    "name": "ipython",
    "version": 3
   },
   "file_extension": ".py",
   "mimetype": "text/x-python",
   "name": "python",
   "nbconvert_exporter": "python",
   "pygments_lexer": "ipython3",
   "version": "3.11.5"
  }
 },
 "nbformat": 4,
 "nbformat_minor": 2
}
