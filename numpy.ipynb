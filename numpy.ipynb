{
 "cells": [
  {
   "cell_type": "code",
   "execution_count": 1,
   "metadata": {},
   "outputs": [
    {
     "name": "stdout",
     "output_type": "stream",
     "text": [
      "Hello World\n"
     ]
    }
   ],
   "source": [
    "print(\"Hello World\")"
   ]
  },
  {
   "cell_type": "code",
   "execution_count": 3,
   "metadata": {},
   "outputs": [],
   "source": [
    "import numpy as np"
   ]
  },
  {
   "cell_type": "markdown",
   "metadata": {},
   "source": [
    "### Exercise 1\n",
    "\n",
    "Given, there are 5 numbers in the data set: (8, 12, 16, 24, 4). What is the standard deviation? And, what will be the sum of deviations of individual data points from their mean?"
   ]
  },
  {
   "cell_type": "code",
   "execution_count": 11,
   "metadata": {},
   "outputs": [],
   "source": [
    "List1 = (8, 12, 16, 24, 4)"
   ]
  },
  {
   "cell_type": "code",
   "execution_count": 16,
   "metadata": {},
   "outputs": [
    {
     "name": "stdout",
     "output_type": "stream",
     "text": [
      "Mean:  12.8\n"
     ]
    }
   ],
   "source": [
    "print(\"Mean: \", np.mean(List1))"
   ]
  },
  {
   "cell_type": "code",
   "execution_count": 17,
   "metadata": {},
   "outputs": [
    {
     "name": "stdout",
     "output_type": "stream",
     "text": [
      "Variance:  47.36\n"
     ]
    }
   ],
   "source": [
    "print(\"Variance: \", np.var(List1))\n",
    "#Variance = Sum of all deviations from the mean"
   ]
  },
  {
   "cell_type": "code",
   "execution_count": 19,
   "metadata": {},
   "outputs": [
    {
     "name": "stdout",
     "output_type": "stream",
     "text": [
      "Standard Deviation: 6.881860213634101\n"
     ]
    }
   ],
   "source": [
    "print(\"Standard Deviation:\",np.sqrt(np.var(List1)))"
   ]
  },
  {
   "cell_type": "code",
   "execution_count": 22,
   "metadata": {},
   "outputs": [
    {
     "name": "stdout",
     "output_type": "stream",
     "text": [
      "Standard Deviation: 6.881860213634101\n"
     ]
    }
   ],
   "source": [
    "print(\"Standard Deviation:\", np.std(List1))"
   ]
  },
  {
   "cell_type": "markdown",
   "metadata": {},
   "source": [
    "### Exercise 2:\n",
    "\n",
    "Question: If some outliers are introduced to the dataset, what will happen to the Standard Deviation? Will it increase, decrease or remain the same? \n",
    "\n",
    "Outliers will increase the Standard Deviation. Less Outlier = less Deviation"
   ]
  },
  {
   "cell_type": "markdown",
   "metadata": {},
   "source": [
    "### Exercise 3:\n",
    "\n",
    "Answer F: B + C"
   ]
  },
  {
   "cell_type": "markdown",
   "metadata": {},
   "source": [
    "### Exercise 4:\n",
    "\n",
    "Assume the data are distributed as follows:\n",
    "\n",
    "[10, 10, 10, 10, 11, 11, 12, 13, 14 ]\n",
    "\n",
    "[15, 15, 15, 16, 16, 16, 16, 16, 17, 18, 19, 19]\n",
    "\n",
    "[20, 20, 20, 21, 21, 21, 21, 21, 22, 22, 22, 23, 23, 23, 24, 24, 24]\n",
    "\n",
    "[26, 26, 26, 26, 26, 26, 26, 27, 27, 27, 27, 29, 29, 29, 29, 29, 29, 29, 29, 29]\n",
    "\n",
    "[30, 30, 30, 30, 30, 31, 31, 32, 32, 33, 33, 34, 34]\n",
    "\n",
    "[35, 35, 35, 37, 37, 37, 37, 39, 39, 39]\n",
    "\n",
    "[40, 40, 43, 43, 44, 44]\n",
    "\n",
    "[46, 46, 46, 47, 49]\n",
    "\n",
    "[52, 53, 54]\n",
    "\n",
    "Find the Median\n",
    "\n"
   ]
  },
  {
   "cell_type": "code",
   "execution_count": 88,
   "metadata": {},
   "outputs": [],
   "source": [
    "my_List2 =  ([10, 10, 10, 10, 11, 11, 12, 13, 14 ],\n",
    "[15, 15, 15, 16, 16, 16, 16, 16, 17, 18, 19, 19],\n",
    "[20, 20, 20, 21, 21, 21, 21, 21, 22, 22, 22, 23, 23, 23, 24, 24, 24],\n",
    "[26, 26, 26, 26, 26, 26, 26, 27, 27, 27, 27, 29, 29, 29, 29, 29, 29, 29, 29, 29],\n",
    "[30, 30, 30, 30, 30, 31, 31, 32, 32, 33, 33, 34, 34],\n",
    "[35, 35, 35, 37, 37, 37, 37, 39, 39, 39],\n",
    "[40, 40, 43, 43, 44, 44],\n",
    "[46, 46, 46, 47, 49],\n",
    "[52, 53, 54])\n",
    "\n"
   ]
  },
  {
   "cell_type": "code",
   "execution_count": 93,
   "metadata": {},
   "outputs": [
    {
     "name": "stdout",
     "output_type": "stream",
     "text": [
      "[10 10 10 10 11 11 12 13 14 15 15 15 16 16 16 16 16 17 18 19 19 20 20 20\n",
      " 21 21 21 21 21 22 22 22 23 23 23 24 24 24 26 26 26 26 26 26 26 27 27 27\n",
      " 27 29 29 29 29 29 29 29 29 29 30 30 30 30 30 31 31 32 32 33 33 34 34 35\n",
      " 35 35 37 37 37 37 39 39 39 40 40 43 43 44 44 46 46 46 47 49 52 53 54]\n"
     ]
    }
   ],
   "source": [
    "new_List = np.concatenate(my_List2)\n",
    "\n",
    "print(new_List)\n",
    "\n"
   ]
  },
  {
   "cell_type": "code",
   "execution_count": 94,
   "metadata": {},
   "outputs": [
    {
     "name": "stdout",
     "output_type": "stream",
     "text": [
      "27.0\n"
     ]
    }
   ],
   "source": [
    "median = np.median(new_List)\n",
    "\n",
    "print(median)"
   ]
  },
  {
   "cell_type": "markdown",
   "metadata": {},
   "source": [
    "### Exercise 5, 6 & 7\n",
    "\n",
    "5) What is the shape of the distribution?\n",
    "\n",
    "Answer: Positively Skewed Distribution\n",
    "\n",
    "\n",
    "\n",
    "6) What would you consider to be the most appropriate measure of the center for this data?\n",
    "\n",
    "Mean as it shows the average salary \n",
    "\n",
    "7) If Y axis represents the number of individuals and X axis – salary of the individual in thousands. How many individuals have salary less than 10 thousands? (no Numpy)\n",
    "\n",
    "11 + 24 = 35 People\n",
    "\n",
    "\n",
    "\n"
   ]
  },
  {
   "cell_type": "markdown",
   "metadata": {},
   "source": [
    "### Exercise 8\n",
    "\n",
    "We have a set of positive numbers. If a single value of the set is altered what must change?\n",
    "\n",
    "A) Mean\n",
    "B) Median\n",
    "C) Mode\n",
    "D) All of these\n",
    "\n",
    "Hint: try to create a Numpy array and calculate mean median and mode, then alter it and see what changes"
   ]
  },
  {
   "cell_type": "code",
   "execution_count": 95,
   "metadata": {},
   "outputs": [
    {
     "ename": "NameError",
     "evalue": "name 'git' is not defined",
     "output_type": "error",
     "traceback": [
      "\u001b[0;31m---------------------------------------------------------------------------\u001b[0m",
      "\u001b[0;31mNameError\u001b[0m                                 Traceback (most recent call last)",
      "Cell \u001b[0;32mIn[95], line 1\u001b[0m\n\u001b[0;32m----> 1\u001b[0m git \u001b[38;5;241m-\u001b[39m version\n",
      "\u001b[0;31mNameError\u001b[0m: name 'git' is not defined"
     ]
    }
   ],
   "source": []
  },
  {
   "cell_type": "code",
   "execution_count": null,
   "metadata": {},
   "outputs": [],
   "source": []
  }
 ],
 "metadata": {
  "kernelspec": {
   "display_name": "base",
   "language": "python",
   "name": "python3"
  },
  "language_info": {
   "codemirror_mode": {
    "name": "ipython",
    "version": 3
   },
   "file_extension": ".py",
   "mimetype": "text/x-python",
   "name": "python",
   "nbconvert_exporter": "python",
   "pygments_lexer": "ipython3",
   "version": "3.11.5"
  }
 },
 "nbformat": 4,
 "nbformat_minor": 2
}
