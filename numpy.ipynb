{
 "cells": [
  {
   "cell_type": "code",
   "execution_count": 92,
   "metadata": {},
   "outputs": [
    {
     "name": "stdout",
     "output_type": "stream",
     "text": [
      "Hello World\n"
     ]
    }
   ],
   "source": [
    "print(\"Hello World\")"
   ]
  },
  {
   "cell_type": "code",
   "execution_count": 93,
   "metadata": {},
   "outputs": [
    {
     "ename": "SyntaxError",
     "evalue": "invalid syntax (4203499525.py, line 3)",
     "output_type": "error",
     "traceback": [
      "\u001b[0;36m  Cell \u001b[0;32mIn[93], line 3\u001b[0;36m\u001b[0m\n\u001b[0;31m    $ git rm numpy.ipynb --cached\u001b[0m\n\u001b[0m    ^\u001b[0m\n\u001b[0;31mSyntaxError\u001b[0m\u001b[0;31m:\u001b[0m invalid syntax\n"
     ]
    }
   ],
   "source": [
    "import numpy as np\n",
    "\n",
    "$ git rm numpy.ipynb --cached"
   ]
  },
  {
   "cell_type": "markdown",
   "metadata": {},
   "source": [
    "### Exercise 1\n",
    "\n",
    "Given, there are 5 numbers in the data set: (8, 12, 16, 24, 4). What is the standard deviation? And, what will be the sum of deviations of individual data points from their mean?"
   ]
  },
  {
   "cell_type": "code",
   "execution_count": null,
   "metadata": {},
   "outputs": [],
   "source": [
    "List1 = (8, 12, 16, 24, 4)"
   ]
  },
  {
   "cell_type": "code",
   "execution_count": null,
   "metadata": {},
   "outputs": [
    {
     "name": "stdout",
     "output_type": "stream",
     "text": [
      "Mean:  12.8\n"
     ]
    }
   ],
   "source": [
    "print(\"Mean: \", np.mean(List1))"
   ]
  },
  {
   "cell_type": "code",
   "execution_count": null,
   "metadata": {},
   "outputs": [
    {
     "name": "stdout",
     "output_type": "stream",
     "text": [
      "Variance:  47.36\n"
     ]
    }
   ],
   "source": [
    "print(\"Variance: \", np.var(List1))\n",
    "#Variance = Sum of all deviations from the mean"
   ]
  },
  {
   "cell_type": "code",
   "execution_count": null,
   "metadata": {},
   "outputs": [
    {
     "name": "stdout",
     "output_type": "stream",
     "text": [
      "Standard Deviation: 6.881860213634101\n"
     ]
    }
   ],
   "source": [
    "print(\"Standard Deviation:\",np.sqrt(np.var(List1)))"
   ]
  },
  {
   "cell_type": "code",
   "execution_count": null,
   "metadata": {},
   "outputs": [
    {
     "name": "stdout",
     "output_type": "stream",
     "text": [
      "Standard Deviation: 6.881860213634101\n"
     ]
    }
   ],
   "source": [
    "print(\"Standard Deviation:\", np.std(List1))"
   ]
  },
  {
   "cell_type": "markdown",
   "metadata": {},
   "source": [
    "### Exercise 2:\n",
    "\n",
    "Question: If some outliers are introduced to the dataset, what will happen to the Standard Deviation? Will it increase, decrease or remain the same? \n",
    "\n",
    "Outliers will increase the Standard Deviation. Less Outlier = less Deviation"
   ]
  },
  {
   "cell_type": "markdown",
   "metadata": {},
   "source": [
    "### Exercise 3:\n",
    "\n",
    "Answer F: B + C"
   ]
  },
  {
   "cell_type": "markdown",
   "metadata": {},
   "source": [
    "### Exercise 4:\n",
    "\n",
    "Assume the data are distributed as follows:\n",
    "\n",
    "[10, 10, 10, 10, 11, 11, 12, 13, 14 ]\n",
    "\n",
    "[15, 15, 15, 16, 16, 16, 16, 16, 17, 18, 19, 19]\n",
    "\n",
    "[20, 20, 20, 21, 21, 21, 21, 21, 22, 22, 22, 23, 23, 23, 24, 24, 24]\n",
    "\n",
    "[26, 26, 26, 26, 26, 26, 26, 27, 27, 27, 27, 29, 29, 29, 29, 29, 29, 29, 29, 29]\n",
    "\n",
    "[30, 30, 30, 30, 30, 31, 31, 32, 32, 33, 33, 34, 34]\n",
    "\n",
    "[35, 35, 35, 37, 37, 37, 37, 39, 39, 39]\n",
    "\n",
    "[40, 40, 43, 43, 44, 44]\n",
    "\n",
    "[46, 46, 46, 47, 49]\n",
    "\n",
    "[52, 53, 54]\n",
    "\n",
    "Find the Median\n",
    "\n"
   ]
  },
  {
   "cell_type": "code",
   "execution_count": null,
   "metadata": {},
   "outputs": [],
   "source": [
    "my_List2 =  ([10, 10, 10, 10, 11, 11, 12, 13, 14 ],\n",
    "[15, 15, 15, 16, 16, 16, 16, 16, 17, 18, 19, 19],\n",
    "[20, 20, 20, 21, 21, 21, 21, 21, 22, 22, 22, 23, 23, 23, 24, 24, 24],\n",
    "[26, 26, 26, 26, 26, 26, 26, 27, 27, 27, 27, 29, 29, 29, 29, 29, 29, 29, 29, 29],\n",
    "[30, 30, 30, 30, 30, 31, 31, 32, 32, 33, 33, 34, 34],\n",
    "[35, 35, 35, 37, 37, 37, 37, 39, 39, 39],\n",
    "[40, 40, 43, 43, 44, 44],\n",
    "[46, 46, 46, 47, 49],\n",
    "[52, 53, 54])\n",
    "\n"
   ]
  },
  {
   "cell_type": "code",
   "execution_count": null,
   "metadata": {},
   "outputs": [
    {
     "name": "stdout",
     "output_type": "stream",
     "text": [
      "[10 10 10 10 11 11 12 13 14 15 15 15 16 16 16 16 16 17 18 19 19 20 20 20\n",
      " 21 21 21 21 21 22 22 22 23 23 23 24 24 24 26 26 26 26 26 26 26 27 27 27\n",
      " 27 29 29 29 29 29 29 29 29 29 30 30 30 30 30 31 31 32 32 33 33 34 34 35\n",
      " 35 35 37 37 37 37 39 39 39 40 40 43 43 44 44 46 46 46 47 49 52 53 54]\n"
     ]
    }
   ],
   "source": [
    "new_List = np.concatenate(my_List2)\n",
    "\n",
    "print(new_List)\n",
    "\n"
   ]
  },
  {
   "cell_type": "code",
   "execution_count": null,
   "metadata": {},
   "outputs": [
    {
     "name": "stdout",
     "output_type": "stream",
     "text": [
      "27.0\n"
     ]
    }
   ],
   "source": [
    "median = np.median(new_List)\n",
    "\n",
    "print(median)"
   ]
  },
  {
   "cell_type": "markdown",
   "metadata": {},
   "source": [
    "### Exercise 5, 6 & 7\n",
    "\n",
    "5) What is the shape of the distribution?\n",
    "\n",
    "Answer: Positively Skewed Distribution\n",
    "\n",
    "\n",
    "\n",
    "6) What would you consider to be the most appropriate measure of the center for this data?\n",
    "\n",
    "Mean as it shows the average salary \n",
    "\n",
    "7) If Y axis represents the number of individuals and X axis – salary of the individual in thousands. How many individuals have salary less than 10 thousands? (no Numpy)\n",
    "\n",
    "11 + 24 = 35 People\n",
    "\n",
    "\n",
    "\n"
   ]
  },
  {
   "cell_type": "markdown",
   "metadata": {},
   "source": [
    "### Exercise 8\n",
    "\n",
    "We have a set of positive numbers. If a single value of the set is altered what must change?\n",
    "\n",
    "A) Mean\n",
    "B) Median\n",
    "C) Mode\n",
    "D) All of these\n",
    "\n",
    "a) mean will always change since the average consists of all values\n",
    "b) the median does not necessarily has to change since it only represents the middle value (which can also occur several times)\n",
    "c) the mode does not necessarily has to change since it only represents the most frequent value (which can also occur several times)\n",
    "\n",
    "Hint: try to create a Numpy array and calculate mean median and mode, then alter it and see what changes"
   ]
  },
  {
   "cell_type": "markdown",
   "metadata": {},
   "source": [
    "### Exercise 9\n",
    "\n",
    "The chart shows hourly consultancy rate of 10 people.\n",
    "\n",
    "Calculate the standard deviation of the salaries of the 10 employees."
   ]
  },
  {
   "cell_type": "code",
   "execution_count": null,
   "metadata": {},
   "outputs": [],
   "source": [
    "salary = [25, 25, 25, 40, 40, 35, 50, 50, 50, 50]"
   ]
  },
  {
   "cell_type": "code",
   "execution_count": null,
   "metadata": {},
   "outputs": [
    {
     "name": "stdout",
     "output_type": "stream",
     "text": [
      "Standard Deviation:  10.44030650891055\n"
     ]
    }
   ],
   "source": [
    "import numpy as np\n",
    "\n",
    "print(\"Standard Deviation: \",np.std(salary))"
   ]
  },
  {
   "cell_type": "markdown",
   "metadata": {},
   "source": [
    "### Exercise 10 \n",
    "\n",
    "Which of the following random variables is discrete?\n",
    "\n",
    "discrete = cannot be broken down - hence needs to be full number\n",
    "\n",
    "A) the length of time a battery lasts \n",
    "\n",
    "B) the number of pens purchased by a student in a year - number of pens is the answer as the student only buys whole pens and does not purchase fractions \n",
    "\n",
    "C) the percentage of cows in a cattle firm that have been vaccinated\n",
    "\n",
    "D) the distance between a pair of towns\n",
    "\n"
   ]
  },
  {
   "cell_type": "markdown",
   "metadata": {},
   "source": [
    "### Exercise 11\n",
    "\n",
    "Which of the below normal distributions will have the greatest spread?\n",
    "\n",
    "A) mu=5, sigma =1.5\n",
    "\n",
    "B) mu=10, sigma =1.0\n",
    "\n",
    "C) mu=5, sigma =1.65\n",
    "\n",
    "D) mu=8, sigma =1.2\n",
    "\n",
    "E) mu=10, sigma =1.6\n",
    "\n",
    "Answer: C) As sigma determines the spread and c) has the highest sigma value "
   ]
  },
  {
   "cell_type": "markdown",
   "metadata": {},
   "source": [
    "# Extra Exercises"
   ]
  },
  {
   "cell_type": "code",
   "execution_count": null,
   "metadata": {},
   "outputs": [],
   "source": [
    "#### 1. Import the numpy package under the name `np` (★☆☆)\n",
    "\n",
    "import numpy as np"
   ]
  },
  {
   "cell_type": "code",
   "execution_count": null,
   "metadata": {},
   "outputs": [
    {
     "name": "stdout",
     "output_type": "stream",
     "text": [
      "<module 'numpy.version' from '/Users/Lucasmeissner/anaconda3/lib/python3.11/site-packages/numpy/version.py'>\n",
      "<function show at 0x10a4ecd60>\n"
     ]
    },
    {
     "data": {
      "text/plain": [
       "(None, None)"
      ]
     },
     "execution_count": 20,
     "metadata": {},
     "output_type": "execute_result"
    }
   ],
   "source": [
    "#### 2. Print the numpy version and the configuration (★☆☆)\n",
    "\n",
    "print(np.version), print(np.show_config)"
   ]
  },
  {
   "cell_type": "code",
   "execution_count": null,
   "metadata": {},
   "outputs": [],
   "source": [
    "#### 3. Create a null vector of size 10 (★☆☆)\n",
    "\n",
    "array_1= np.zeros(10)"
   ]
  },
  {
   "cell_type": "code",
   "execution_count": null,
   "metadata": {},
   "outputs": [],
   "source": [
    "#### 4. How to find the memory size of any array (★☆☆)\n",
    "\n",
    "def memory(List):\n",
    "    print(\"Size of the array:\",List)\n",
    "    print(\"Memory Size of one array element in bytes:\",List.itemsize)\n",
    "\n",
    "# memory size of numpy array in bytes\n",
    "\n",
    "    print(\"Memory size of numpy array in bytes:\",\n",
    "      List.size * List.itemsize)\n",
    "\n"
   ]
  },
  {
   "cell_type": "code",
   "execution_count": null,
   "metadata": {},
   "outputs": [
    {
     "name": "stdout",
     "output_type": "stream",
     "text": [
      "[0. 0. 0. 0. 0. 0. 0. 0. 0. 0. 0. 0. 0. 0. 0. 0. 0. 0. 0. 0.]\n"
     ]
    }
   ],
   "source": [
    "array_example = np.zeros(20)\n",
    "print(array_example)"
   ]
  },
  {
   "cell_type": "code",
   "execution_count": null,
   "metadata": {},
   "outputs": [
    {
     "name": "stdout",
     "output_type": "stream",
     "text": [
      "Size of the array: [0. 0. 0. 0. 0. 0. 0. 0. 0. 0. 0. 0. 0. 0. 0. 0. 0. 0. 0. 0.]\n",
      "Memory Size of one array element in bytes: 8\n",
      "Memory size of numpy array in bytes: 160\n"
     ]
    }
   ],
   "source": [
    "memory(array_example)"
   ]
  },
  {
   "cell_type": "code",
   "execution_count": null,
   "metadata": {},
   "outputs": [
    {
     "name": "stdout",
     "output_type": "stream",
     "text": [
      "add(x1, x2, /, out=None, *, where=True, casting='same_kind', order='K', dtype=None, subok=True[, signature, extobj])\n",
      "\n",
      "Add arguments element-wise.\n",
      "\n",
      "Parameters\n",
      "----------\n",
      "x1, x2 : array_like\n",
      "    The arrays to be added.\n",
      "    If ``x1.shape != x2.shape``, they must be broadcastable to a common\n",
      "    shape (which becomes the shape of the output).\n",
      "out : ndarray, None, or tuple of ndarray and None, optional\n",
      "    A location into which the result is stored. If provided, it must have\n",
      "    a shape that the inputs broadcast to. If not provided or None,\n",
      "    a freshly-allocated array is returned. A tuple (possible only as a\n",
      "    keyword argument) must have length equal to the number of outputs.\n",
      "where : array_like, optional\n",
      "    This condition is broadcast over the input. At locations where the\n",
      "    condition is True, the `out` array will be set to the ufunc result.\n",
      "    Elsewhere, the `out` array will retain its original value.\n",
      "    Note that if an uninitialized `out` array is created via the default\n",
      "    ``out=None``, locations within it where the condition is False will\n",
      "    remain uninitialized.\n",
      "**kwargs\n",
      "    For other keyword-only arguments, see the\n",
      "    :ref:`ufunc docs <ufuncs.kwargs>`.\n",
      "\n",
      "Returns\n",
      "-------\n",
      "add : ndarray or scalar\n",
      "    The sum of `x1` and `x2`, element-wise.\n",
      "    This is a scalar if both `x1` and `x2` are scalars.\n",
      "\n",
      "Notes\n",
      "-----\n",
      "Equivalent to `x1` + `x2` in terms of array broadcasting.\n",
      "\n",
      "Examples\n",
      "--------\n",
      ">>> np.add(1.0, 4.0)\n",
      "5.0\n",
      ">>> x1 = np.arange(9.0).reshape((3, 3))\n",
      ">>> x2 = np.arange(3.0)\n",
      ">>> np.add(x1, x2)\n",
      "array([[  0.,   2.,   4.],\n",
      "       [  3.,   5.,   7.],\n",
      "       [  6.,   8.,  10.]])\n",
      "\n",
      "The ``+`` operator can be used as a shorthand for ``np.add`` on ndarrays.\n",
      "\n",
      ">>> x1 = np.arange(9.0).reshape((3, 3))\n",
      ">>> x2 = np.arange(3.0)\n",
      ">>> x1 + x2\n",
      "array([[ 0.,  2.,  4.],\n",
      "       [ 3.,  5.,  7.],\n",
      "       [ 6.,  8., 10.]])\n"
     ]
    }
   ],
   "source": [
    "#### 5. How to get the documentation of the numpy add function from the command line? (★☆☆)\n",
    "\n",
    "np.info(np.add)"
   ]
  },
  {
   "cell_type": "code",
   "execution_count": null,
   "metadata": {},
   "outputs": [
    {
     "name": "stdout",
     "output_type": "stream",
     "text": [
      "[0. 0. 0. 0. 1. 0. 0. 0. 0. 0.]\n"
     ]
    }
   ],
   "source": [
    "y = np.zeros(10)\n",
    "\n",
    "y[4]= 1\n",
    "\n",
    "print(y)\n"
   ]
  },
  {
   "cell_type": "code",
   "execution_count": null,
   "metadata": {},
   "outputs": [],
   "source": [
    "#### 7. Create a vector with values ranging from 10 to 49 (★☆☆)\n",
    "\n",
    "array_2 = np.arange(10,50)\n"
   ]
  },
  {
   "cell_type": "code",
   "execution_count": 115,
   "metadata": {},
   "outputs": [
    {
     "name": "stdout",
     "output_type": "stream",
     "text": [
      "[49 48 47 46 45 44 43 42 41 40 39 38 37 36 35 34 33 32 31 30 29 28 27 26\n",
      " 25 24 23 22 21 20 19 18 17 16 15 14 13 12 11 10]\n"
     ]
    }
   ],
   "source": [
    "#### 8. Reverse a vector (first element becomes last) (★☆☆)\n",
    "\n",
    "array_2\n",
    "\n",
    "res = array_2[::-1]\n",
    "print(res)"
   ]
  },
  {
   "cell_type": "code",
   "execution_count": 123,
   "metadata": {},
   "outputs": [
    {
     "name": "stdout",
     "output_type": "stream",
     "text": [
      "[[0 1 2]\n",
      " [3 4 5]\n",
      " [6 7 8]]\n"
     ]
    }
   ],
   "source": [
    "#### 9. Create a 3x3 matrix with values ranging from 0 to 8 (★☆☆)\n",
    "\n",
    "array_3=np.arange(0,9)\n",
    "\n",
    "print(array_3.reshape(3,3))\n",
    "\n"
   ]
  },
  {
   "cell_type": "code",
   "execution_count": 128,
   "metadata": {},
   "outputs": [
    {
     "name": "stdout",
     "output_type": "stream",
     "text": [
      "(array([0, 1, 4]),)\n"
     ]
    }
   ],
   "source": [
    "#### 10. Find indices of non-zero elements from [1,2,0,0,4,0] (★☆☆)\n",
    "\n",
    "array_4= [1,2,0,0,4,0]\n",
    "x = np.nonzero(array_4)\n",
    "print(x)\n",
    "\n"
   ]
  },
  {
   "cell_type": "code",
   "execution_count": 130,
   "metadata": {},
   "outputs": [
    {
     "data": {
      "text/plain": [
       "array([[1., 0., 0.],\n",
       "       [0., 1., 0.],\n",
       "       [0., 0., 1.]])"
      ]
     },
     "execution_count": 130,
     "metadata": {},
     "output_type": "execute_result"
    }
   ],
   "source": [
    "#### 11. Create a 3x3 identity matrix (★☆☆)\n",
    "\n",
    "np.identity(3)\n"
   ]
  },
  {
   "cell_type": "code",
   "execution_count": 134,
   "metadata": {},
   "outputs": [
    {
     "data": {
      "text/plain": [
       "array([[691, 596,  14],\n",
       "       [167, 137,  56],\n",
       "       [228, 137, 764]])"
      ]
     },
     "execution_count": 134,
     "metadata": {},
     "output_type": "execute_result"
    }
   ],
   "source": [
    "#### 12. Create a 3x3x3 array with random values (★☆☆)\n",
    "\n",
    "array_5=np.random.randint(0,1000, size=(3,3))\n",
    "array_5\n"
   ]
  },
  {
   "cell_type": "code",
   "execution_count": 138,
   "metadata": {},
   "outputs": [
    {
     "name": "stdout",
     "output_type": "stream",
     "text": [
      "[[495 305 310 895 975 832  49 513 292 108]\n",
      " [573  68 758 152 103 874 297 226 733 431]\n",
      " [283 371 943 788 255 643 231 567 607 894]\n",
      " [ 23 509 189 589 482 129 586 167 151 421]\n",
      " [772 416 653 370 629  55 730  69 352  80]\n",
      " [648 237 558 851 373 592 620 364 372 297]\n",
      " [244  57 748  79 803 465 185 815 617 981]\n",
      " [904 562 414 538   6 700 904 342  50 867]\n",
      " [155 315 607 549 142 136  90 656 134 795]\n",
      " [648 332 710 498 214 972 413 900 763 927]]\n",
      "Max:  981\n",
      "Min:  6\n"
     ]
    }
   ],
   "source": [
    "#### 13. Create a 10x10 array with random values and find the minimum and maximum values (★☆☆)\n",
    "\n",
    "array_6=np.random.randint(0,1000, size=[10,10])\n",
    "\n",
    "print(array_6)\n",
    "print(\"Max: \",np.max(array_6))\n",
    "print(\"Min: \",np.min(array_6))"
   ]
  }
 ],
 "metadata": {
  "kernelspec": {
   "display_name": "base",
   "language": "python",
   "name": "python3"
  },
  "language_info": {
   "codemirror_mode": {
    "name": "ipython",
    "version": 3
   },
   "file_extension": ".py",
   "mimetype": "text/x-python",
   "name": "python",
   "nbconvert_exporter": "python",
   "pygments_lexer": "ipython3",
   "version": "3.11.5"
  }
 },
 "nbformat": 4,
 "nbformat_minor": 2
}
